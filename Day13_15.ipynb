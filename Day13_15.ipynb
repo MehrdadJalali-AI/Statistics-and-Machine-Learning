{
  "cells": [
    {
      "cell_type": "markdown",
      "metadata": {
        "id": "view-in-github",
        "colab_type": "text"
      },
      "source": [
        "<a href=\"https://colab.research.google.com/github/MehrdadJalali-AI/Statistics-and-Machine-Learning/blob/main/Day13_15.ipynb\" target=\"_parent\"><img src=\"https://colab.research.google.com/assets/colab-badge.svg\" alt=\"Open In Colab\"/></a>"
      ]
    },
    {
      "cell_type": "markdown",
      "id": "4133bb47",
      "metadata": {
        "id": "4133bb47"
      },
      "source": [
        "# Time Series Analysis\n",
        "This notebook covers the concepts and models discussed in the presentation, with examples and visualizations to make the topics clearer."
      ]
    },
    {
      "cell_type": "markdown",
      "id": "a48c0c30",
      "metadata": {
        "id": "a48c0c30"
      },
      "source": [
        "## 1. Introduction to Time Series\n",
        "**Definition**: A time series is a sequence of data points collected or recorded at specific time intervals.\n",
        "\n",
        "**Examples**: Stock prices, weather data, sales data."
      ]
    },
    {
      "cell_type": "code",
      "execution_count": null,
      "id": "b57425c4",
      "metadata": {
        "id": "b57425c4"
      },
      "outputs": [],
      "source": [
        "import numpy as np\n",
        "import pandas as pd\n",
        "import matplotlib.pyplot as plt\n",
        "\n",
        "# Generate example data\n",
        "np.random.seed(42)\n",
        "time = pd.date_range('2020-01-01', periods=100, freq='D')\n",
        "data = np.cumsum(np.random.randn(100))\n",
        "df = pd.DataFrame({'Date': time, 'Value': data}).set_index('Date')\n",
        "\n",
        "# Plot example time series\n",
        "plt.figure(figsize=(10, 5))\n",
        "plt.plot(df.index, df['Value'], label='Time Series')\n",
        "plt.title('Example Time Series')\n",
        "plt.xlabel('Date')\n",
        "plt.ylabel('Value')\n",
        "plt.legend()\n",
        "plt.show()"
      ]
    },
    {
      "cell_type": "markdown",
      "id": "7adbd591",
      "metadata": {
        "id": "7adbd591"
      },
      "source": [
        "## 2. Time Series Decomposition\n",
        "**Components**:\n",
        "- **Trend**: Long-term progression in the data.\n",
        "- **Seasonality**: Regular patterns repeating over time.\n",
        "- **Residual**: Random variations.\n",
        "\n",
        "### Example: Decomposing a Synthetic Time Series"
      ]
    },
    {
      "cell_type": "code",
      "execution_count": null,
      "id": "cfdaeb6d",
      "metadata": {
        "id": "cfdaeb6d"
      },
      "outputs": [],
      "source": [
        "from statsmodels.tsa.seasonal import seasonal_decompose\n",
        "\n",
        "# Generate seasonal data\n",
        "seasonal = 10 * np.sin(np.linspace(0, 20, 100))\n",
        "trend = np.linspace(1, 50, 100)\n",
        "noise = np.random.normal(0, 2, 100)\n",
        "synthetic_data = seasonal + trend + noise\n",
        "synthetic_df = pd.DataFrame({'Date': time, 'Value': synthetic_data}).set_index('Date')\n",
        "\n",
        "# Decompose the series\n",
        "decomposition = seasonal_decompose(synthetic_df['Value'], model='additive', period=20)\n",
        "\n",
        "# Plot decomposition\n",
        "decomposition.plot()\n",
        "plt.show()"
      ]
    },
    {
      "cell_type": "markdown",
      "id": "c0af9be9",
      "metadata": {
        "id": "c0af9be9"
      },
      "source": [
        "## 3. Trend Estimation\n",
        "**Methods**:\n",
        "- **Moving Average**: Smooths the data by averaging over a window.\n",
        "- **Exponential Smoothing**: Applies decreasing weights to older observations.\n",
        "\n",
        "### Example: Moving Average"
      ]
    },
    {
      "cell_type": "code",
      "execution_count": null,
      "id": "9df4105e",
      "metadata": {
        "id": "9df4105e"
      },
      "outputs": [],
      "source": [
        "# Apply moving average\n",
        "window = 5\n",
        "synthetic_df['Moving Average'] = synthetic_df['Value'].rolling(window=window).mean()\n",
        "\n",
        "# Plot moving average\n",
        "plt.figure(figsize=(10, 5))\n",
        "plt.plot(synthetic_df['Value'], label='Original Data')\n",
        "plt.plot(synthetic_df['Moving Average'], label=f'{window}-Day Moving Average', color='red')\n",
        "plt.title('Moving Average Example')\n",
        "plt.legend()\n",
        "plt.show()"
      ]
    },
    {
      "cell_type": "markdown",
      "id": "ea1ab7bb",
      "metadata": {
        "id": "ea1ab7bb"
      },
      "source": [
        "## 4. Common Models for Time Series Prediction\n",
        "### AR, ARMA, ARIMA"
      ]
    },
    {
      "cell_type": "code",
      "execution_count": null,
      "id": "df29027e",
      "metadata": {
        "id": "df29027e"
      },
      "outputs": [],
      "source": [
        "from statsmodels.tsa.arima.model import ARIMA\n",
        "\n",
        "# Fit ARIMA model\n",
        "model = ARIMA(synthetic_df['Value'], order=(2, 1, 2))\n",
        "arima_result = model.fit()\n",
        "\n",
        "# Plot predictions\n",
        "plt.figure(figsize=(10, 5))\n",
        "plt.plot(synthetic_df['Value'], label='Original Data')\n",
        "plt.plot(arima_result.fittedvalues, label='ARIMA Predictions', color='orange')\n",
        "plt.title('ARIMA Example')\n",
        "plt.legend()\n",
        "plt.show()"
      ]
    },
    {
      "cell_type": "markdown",
      "id": "711880e4",
      "metadata": {
        "id": "711880e4"
      },
      "source": [
        "## 5. Advanced Models: LSTMs and Transformers\n",
        "### Example: Using LSTMs"
      ]
    },
    {
      "cell_type": "code",
      "execution_count": null,
      "id": "8bc128fc",
      "metadata": {
        "id": "8bc128fc"
      },
      "outputs": [],
      "source": [
        "from tensorflow.keras.models import Sequential\n",
        "from tensorflow.keras.layers import LSTM, Dense\n",
        "from sklearn.preprocessing import MinMaxScaler\n",
        "\n",
        "# Prepare data for LSTM\n",
        "scaler = MinMaxScaler()\n",
        "scaled_data = scaler.fit_transform(synthetic_df['Value'].values.reshape(-1, 1))\n",
        "X = []\n",
        "y = []\n",
        "for i in range(10, len(scaled_data)):\n",
        "    X.append(scaled_data[i-10:i, 0])\n",
        "    y.append(scaled_data[i, 0])\n",
        "X, y = np.array(X), np.array(y)\n",
        "\n",
        "# Build LSTM model\n",
        "model = Sequential([\n",
        "    LSTM(50, activation='relu', input_shape=(X.shape[1], 1)),\n",
        "    Dense(1)\n",
        "])\n",
        "model.compile(optimizer='adam', loss='mse')\n",
        "\n",
        "# Train the model\n",
        "X = X.reshape((X.shape[0], X.shape[1], 1))\n",
        "model.fit(X, y, epochs=5, batch_size=16, verbose=1)\n",
        "\n",
        "# Predict and plot\n",
        "predictions = model.predict(X)\n",
        "plt.figure(figsize=(10, 5))\n",
        "plt.plot(scaled_data[10:], label='Original Data')\n",
        "plt.plot(predictions, label='LSTM Predictions', color='green')\n",
        "plt.legend()\n",
        "plt.show()"
      ]
    }
  ],
  "metadata": {
    "colab": {
      "provenance": [],
      "include_colab_link": true
    }
  },
  "nbformat": 4,
  "nbformat_minor": 5
}