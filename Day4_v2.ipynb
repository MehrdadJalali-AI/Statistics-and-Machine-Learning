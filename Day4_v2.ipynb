{
  "cells": [
    {
      "cell_type": "markdown",
      "metadata": {
        "id": "view-in-github",
        "colab_type": "text"
      },
      "source": [
        "<a href=\"https://colab.research.google.com/github/MehrdadJalali-AI/Statistics-and-Machine-Learning/blob/main/Day4_v2.ipynb\" target=\"_parent\"><img src=\"https://colab.research.google.com/assets/colab-badge.svg\" alt=\"Open In Colab\"/></a>"
      ]
    },
    {
      "cell_type": "markdown",
      "metadata": {
        "id": "UDgnhc9kAY6U"
      },
      "source": [
        "# Inferential Statistics Examples in Python\n",
        "This notebook demonstrates simple examples of inferential statistics concepts including:\n",
        "- Hypothesis Testing\n",
        "- Point Estimation\n",
        "- Interval Estimation\n",
        "- Z-Test\n",
        "- T-Test\n",
        "- ANOVA\n",
        "- Type I and Type II Errors\n"
      ],
      "id": "UDgnhc9kAY6U"
    },
    {
      "cell_type": "code",
      "execution_count": null,
      "metadata": {
        "id": "LFaf1KpIAY6W"
      },
      "outputs": [],
      "source": [
        "import numpy as np\n",
        "import pandas as pd\n",
        "from scipy.stats import ttest_1samp, f_oneway, norm, t\n",
        "import matplotlib.pyplot as plt"
      ],
      "id": "LFaf1KpIAY6W"
    },
    {
      "cell_type": "markdown",
      "metadata": {
        "id": "jBCfYdGVAY6X"
      },
      "source": [
        "## 1. Hypothesis Testing\n",
        "Testing if the mean of a sample differs from a known population mean."
      ],
      "id": "jBCfYdGVAY6X"
    },
    {
      "cell_type": "code",
      "execution_count": null,
      "metadata": {
        "id": "BOV10pU6AY6X"
      },
      "outputs": [],
      "source": [
        "# Example: Hypothesis Testing\n",
        "np.random.seed(42)\n",
        "sample = np.random.normal(105, 10, 30)  # Mean = 105, std = 10, n = 30\n",
        "population_mean = 100\n",
        "t_stat, p_value = ttest_1samp(sample, population_mean)\n",
        "print(f\"T-Statistic: {t_stat:.2f}, P-Value: {p_value:.3f}\")\n",
        "if p_value < 0.05:\n",
        "    print(\"Reject the null hypothesis: Sample mean is significantly different from population mean.\")\n",
        "else:\n",
        "    print(\"Fail to reject the null hypothesis: No significant difference.\")\n",
        "\n",
        "# Plot sample distribution\n",
        "plt.figure(figsize=(8, 5))\n",
        "plt.hist(sample, bins=10, alpha=0.7, color='blue', edgecolor='black')\n",
        "plt.axvline(population_mean, color='red', linestyle='--', label='Population Mean (100)')\n",
        "plt.axvline(np.mean(sample), color='green', linestyle='-', label='Sample Mean')\n",
        "plt.title('Sample Distribution vs Population Mean')\n",
        "plt.xlabel('Value')\n",
        "plt.ylabel('Frequency')\n",
        "plt.legend()\n",
        "plt.grid(alpha=0.4)\n",
        "plt.show()"
      ],
      "id": "BOV10pU6AY6X"
    },
    {
      "cell_type": "markdown",
      "metadata": {
        "id": "PijS6wwnAY6X"
      },
      "source": [
        "## 2. Point Estimation\n",
        "Estimate the population mean from a sample."
      ],
      "id": "PijS6wwnAY6X"
    },
    {
      "cell_type": "code",
      "execution_count": null,
      "metadata": {
        "id": "9admqcrrAY6X"
      },
      "outputs": [],
      "source": [
        "# Point Estimation\n",
        "sample_mean = np.mean(sample)\n",
        "print(f\"Sample Mean (Point Estimate of Population Mean): {sample_mean:.2f}\")"
      ],
      "id": "9admqcrrAY6X"
    },
    {
      "cell_type": "markdown",
      "metadata": {
        "id": "TSN1RC9FAY6X"
      },
      "source": [
        "## 3. Interval Estimation\n",
        "Compute a confidence interval for the sample mean."
      ],
      "id": "TSN1RC9FAY6X"
    },
    {
      "cell_type": "code",
      "execution_count": null,
      "metadata": {
        "id": "jOXGh2zOAY6Y"
      },
      "outputs": [],
      "source": [
        "# Interval Estimation\n",
        "confidence = 0.95\n",
        "n = len(sample)\n",
        "df = n - 1\n",
        "sample_std = np.std(sample, ddof=1)\n",
        "t_critical = t.ppf((1 + confidence) / 2, df)\n",
        "margin_of_error = t_critical * (sample_std / np.sqrt(n))\n",
        "ci_lower = sample_mean - margin_of_error\n",
        "ci_upper = sample_mean + margin_of_error\n",
        "print(f\"{confidence*100:.0f}% Confidence Interval: ({ci_lower:.2f}, {ci_upper:.2f})\")\n",
        "\n",
        "# Visualize Confidence Interval\n",
        "plt.figure(figsize=(8, 5))\n",
        "plt.hist(sample, bins=10, alpha=0.7, color='blue', edgecolor='black')\n",
        "plt.axvline(ci_lower, color='green', linestyle='--', label=f'Lower Bound ({ci_lower:.2f})')\n",
        "plt.axvline(ci_upper, color='green', linestyle='--', label=f'Upper Bound ({ci_upper:.2f})')\n",
        "plt.axvline(sample_mean, color='orange', linestyle='-', label=f'Sample Mean ({sample_mean:.2f})')\n",
        "plt.title('Confidence Interval of the Sample Mean')\n",
        "plt.xlabel('Value')\n",
        "plt.ylabel('Frequency')\n",
        "plt.legend()\n",
        "plt.grid(alpha=0.4)\n",
        "plt.show()"
      ],
      "id": "jOXGh2zOAY6Y"
    },
    {
      "cell_type": "markdown",
      "metadata": {
        "id": "-BnPWyl1AY6Y"
      },
      "source": [
        "## 4. ANOVA\n",
        "Test if there is a significant difference between the means of three groups."
      ],
      "id": "-BnPWyl1AY6Y"
    },
    {
      "cell_type": "code",
      "execution_count": null,
      "metadata": {
        "id": "2RrcykTFAY6Y"
      },
      "outputs": [],
      "source": [
        "group1 = np.random.normal(100, 10, 30)\n",
        "group2 = np.random.normal(105, 10, 30)\n",
        "group3 = np.random.normal(110, 10, 30)\n",
        "f_stat, p_value_anova = f_oneway(group1, group2, group3)\n",
        "print(f\"F-Statistic: {f_stat:.2f}, P-Value: {p_value_anova:.3f}\")\n",
        "if p_value_anova < 0.05:\n",
        "    print(\"Reject Null\")"
      ],
      "id": "2RrcykTFAY6Y"
    }
  ],
  "metadata": {
    "kernelspec": {
      "display_name": "Python 3",
      "language": "python",
      "name": "python3"
    },
    "language_info": {
      "name": "python",
      "version": "3.9"
    },
    "colab": {
      "provenance": [],
      "include_colab_link": true
    }
  },
  "nbformat": 4,
  "nbformat_minor": 5
}