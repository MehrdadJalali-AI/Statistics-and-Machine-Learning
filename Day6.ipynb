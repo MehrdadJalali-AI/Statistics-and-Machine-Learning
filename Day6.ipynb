{
  "nbformat": 4,
  "nbformat_minor": 0,
  "metadata": {
    "colab": {
      "provenance": [],
      "authorship_tag": "ABX9TyN+rvd8mUHVaU1j4s0t4RxW",
      "include_colab_link": true
    },
    "kernelspec": {
      "name": "python3",
      "display_name": "Python 3"
    },
    "language_info": {
      "name": "python"
    }
  },
  "cells": [
    {
      "cell_type": "markdown",
      "metadata": {
        "id": "view-in-github",
        "colab_type": "text"
      },
      "source": [
        "<a href=\"https://colab.research.google.com/github/MehrdadJalali-AI/Statistics-and-Machine-Learning/blob/main/Day6.ipynb\" target=\"_parent\"><img src=\"https://colab.research.google.com/assets/colab-badge.svg\" alt=\"Open In Colab\"/></a>"
      ]
    },
    {
      "cell_type": "markdown",
      "source": [
        "**Filter Methods: Using Correlation**\n",
        "To select features based on their correlation with the target variable, you can use pandas and scipy to compute correlation and select the most relevant features."
      ],
      "metadata": {
        "id": "Q15KGlFK58Ho"
      }
    },
    {
      "cell_type": "code",
      "execution_count": 18,
      "metadata": {
        "colab": {
          "base_uri": "https://localhost:8080/"
        },
        "id": "N-EHwDvf526k",
        "outputId": "8ad8410e-d876-4ed3-b752-bccf8af957e7"
      },
      "outputs": [
        {
          "output_type": "stream",
          "name": "stdout",
          "text": [
            "Mutual Information values:\n",
            "     Feature  Mutual Information\n",
            "0  Feature1                   0\n",
            "1  Feature2                   0\n",
            "2  Feature3                   0\n",
            "Selected Features: []\n"
          ]
        }
      ],
      "source": [
        "from sklearn.feature_selection import mutual_info_classif\n",
        "import pandas as pd\n",
        "\n",
        "# Example data\n",
        "data = pd.DataFrame({\n",
        "    'Feature1': [10, 20, 30, 40, 50],\n",
        "    'Feature2': [5, 10, 15, 20, 25],\n",
        "    'Feature3': [15, 25, 35, 45, 55],\n",
        "    'Target': [1, 0, 1, 0, 1]\n",
        "})\n",
        "\n",
        "# Calculate mutual information\n",
        "X = data.drop(columns='Target')\n",
        "y = data['Target']\n",
        "mutual_info = mutual_info_classif(X, y)\n",
        "\n",
        "# Show mutual information values\n",
        "mi_df = pd.DataFrame({'Feature': X.columns, 'Mutual Information': mutual_info})\n",
        "selected_features = mi_df[mi_df['Mutual Information'] > 0]['Feature'].tolist()\n",
        "\n",
        "print(\"Mutual Information values:\\n\", mi_df)\n",
        "print(\"Selected Features:\", selected_features)\n",
        "\n",
        "\n",
        "\n",
        "\n"
      ]
    },
    {
      "cell_type": "markdown",
      "source": [
        "**Wrapper Method (Recursive Feature Elimination)**\n",
        "As shown earlier, Recursive Feature Elimination (RFE) can be used to find the best subset of features by evaluating model performance."
      ],
      "metadata": {
        "id": "fM2df1hu7cHT"
      }
    },
    {
      "cell_type": "code",
      "source": [
        "from sklearn.feature_selection import RFE\n",
        "from sklearn.linear_model import LogisticRegression\n",
        "\n",
        "model = LogisticRegression()\n",
        "rfe = RFE(model, n_features_to_select=2)\n",
        "rfe.fit(data.drop(columns='Target'), data['Target'])\n",
        "\n",
        "selected_features = data.drop(columns='Target').columns[rfe.support_].tolist()\n",
        "print(\"Selected Features with RFE:\", selected_features)\n"
      ],
      "metadata": {
        "colab": {
          "base_uri": "https://localhost:8080/"
        },
        "id": "jQfjkGUr7WRw",
        "outputId": "532d47ed-9240-43e1-9e41-e7f3aa32046f"
      },
      "execution_count": 19,
      "outputs": [
        {
          "output_type": "stream",
          "name": "stdout",
          "text": [
            "Selected Features with RFE: ['Feature1', 'Feature3']\n"
          ]
        }
      ]
    },
    {
      "cell_type": "markdown",
      "source": [
        "**Tree-Based Feature Importance**\n",
        "Tree-based models like Random Forests and Decision Trees can provide feature importances, which can be useful for feature selection."
      ],
      "metadata": {
        "id": "ihQrznX-7ojO"
      }
    },
    {
      "cell_type": "code",
      "source": [
        "from sklearn.ensemble import RandomForestClassifier\n",
        "\n",
        "model = RandomForestClassifier()\n",
        "model.fit(data.drop(columns='Target'), data['Target'])\n",
        "\n",
        "feature_importances = model.feature_importances_\n",
        "fi_df = pd.DataFrame({'Feature': data.drop(columns='Target').columns, 'Importance': feature_importances})\n",
        "selected_features = fi_df[fi_df['Importance'] > 0]['Feature'].tolist()\n",
        "\n",
        "print(\"Feature Importances:\\n\", fi_df)\n",
        "print(\"Selected Features:\", selected_features)\n"
      ],
      "metadata": {
        "colab": {
          "base_uri": "https://localhost:8080/"
        },
        "id": "tCXtVoCM7hTb",
        "outputId": "f0a4ae79-4996-4b6d-de10-4562a1f4cbfd"
      },
      "execution_count": 20,
      "outputs": [
        {
          "output_type": "stream",
          "name": "stdout",
          "text": [
            "Feature Importances:\n",
            "     Feature  Importance\n",
            "0  Feature1    0.342643\n",
            "1  Feature2    0.340965\n",
            "2  Feature3    0.316392\n",
            "Selected Features: ['Feature1', 'Feature2', 'Feature3']\n"
          ]
        }
      ]
    }
  ]
}