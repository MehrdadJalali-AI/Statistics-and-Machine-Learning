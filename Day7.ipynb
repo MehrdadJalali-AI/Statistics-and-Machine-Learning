{
  "cells": [
    {
      "cell_type": "markdown",
      "metadata": {
        "id": "view-in-github",
        "colab_type": "text"
      },
      "source": [
        "<a href=\"https://colab.research.google.com/github/MehrdadJalali-AI/Statistics-and-Machine-Learning/blob/main/Day7.ipynb\" target=\"_parent\"><img src=\"https://colab.research.google.com/assets/colab-badge.svg\" alt=\"Open In Colab\"/></a>"
      ]
    },
    {
      "cell_type": "markdown",
      "id": "239a6fcb",
      "metadata": {
        "id": "239a6fcb"
      },
      "source": [
        "# Linear and Polynomial Regression with Evaluation Methods"
      ]
    },
    {
      "cell_type": "markdown",
      "id": "64700c13",
      "metadata": {
        "id": "64700c13"
      },
      "source": [
        "\n",
        "This notebook allows students to explore **Linear Regression** and **Polynomial Regression** models using different evaluation techniques.\n",
        "We will apply **Holdout** and **K-Fold Cross-Validation** methods to evaluate the models' performance, and we will measure the error using **Root Mean Squared Error (RMSE)** and **R-squared (R2)** metrics.\n"
      ]
    },
    {
      "cell_type": "markdown",
      "id": "cd199349",
      "metadata": {
        "id": "cd199349"
      },
      "source": [
        "## Step 1: Create a Synthetic Dataset"
      ]
    },
    {
      "cell_type": "code",
      "execution_count": 1,
      "id": "bd4a588e",
      "metadata": {
        "colab": {
          "base_uri": "https://localhost:8080/",
          "height": 472
        },
        "id": "bd4a588e",
        "outputId": "1c0753bd-ae74-4f2c-80aa-8add1a005004"
      },
      "outputs": [
        {
          "output_type": "display_data",
          "data": {
            "text/plain": [
              "<Figure size 640x480 with 1 Axes>"
            ],
            "image/png": "[encoded data removed]"
          },
          "metadata": {}
        }
      ],
      "source": [
        "\n",
        "import numpy as np\n",
        "import pandas as pd\n",
        "import matplotlib.pyplot as plt\n",
        "from sklearn.model_selection import train_test_split, KFold, cross_val_score\n",
        "from sklearn.linear_model import LinearRegression\n",
        "from sklearn.preprocessing import PolynomialFeatures\n",
        "from sklearn.metrics import mean_squared_error, r2_score\n",
        "\n",
        "# Create synthetic dataset\n",
        "np.random.seed(0)\n",
        "X = 2 * np.random.rand(100, 1)\n",
        "y = 4 + 3 * X + np.random.randn(100, 1)\n",
        "\n",
        "plt.scatter(X, y, color=\"blue\")\n",
        "plt.xlabel(\"X\")\n",
        "plt.ylabel(\"y\")\n",
        "plt.title(\"Synthetic Linear Data\")\n",
        "plt.show()\n"
      ]
    },
    {
      "cell_type": "markdown",
      "id": "ce15154b",
      "metadata": {
        "id": "ce15154b"
      },
      "source": [
        "## Step 2: Linear Regression with Holdout Validation"
      ]
    },
    {
      "cell_type": "code",
      "execution_count": 2,
      "id": "05552cb1",
      "metadata": {
        "colab": {
          "base_uri": "https://localhost:8080/"
        },
        "id": "05552cb1",
        "outputId": "0aa1ddb7-f3a8-4519-8f2d-ec87640be995"
      },
      "outputs": [
        {
          "output_type": "stream",
          "name": "stdout",
          "text": [
            "Linear Regression with Holdout Validation\n",
            "Training RMSE: 1.00565207255927\n",
            "Training R2: 0.7597598292034167\n",
            "Testing RMSE: 0.9579943877557056\n",
            "Testing R2: 0.6521157503858556\n"
          ]
        },
        {
          "output_type": "stream",
          "name": "stderr",
          "text": [
            "/usr/local/lib/python3.10/dist-packages/sklearn/metrics/_regression.py:492: FutureWarning: 'squared' is deprecated in version 1.4 and will be removed in 1.6. To calculate the root mean squared error, use the function'root_mean_squared_error'.\n",
            "  warnings.warn(\n",
            "/usr/local/lib/python3.10/dist-packages/sklearn/metrics/_regression.py:492: FutureWarning: 'squared' is deprecated in version 1.4 and will be removed in 1.6. To calculate the root mean squared error, use the function'root_mean_squared_error'.\n",
            "  warnings.warn(\n"
          ]
        }
      ],
      "source": [
        "\n",
        "# Split data into training and testing sets (Holdout method)\n",
        "X_train, X_test, y_train, y_test = train_test_split(X, y, test_size=0.2, random_state=42)\n",
        "\n",
        "# Linear Regression Model\n",
        "lin_reg = LinearRegression()\n",
        "lin_reg.fit(X_train, y_train)\n",
        "\n",
        "# Predictions and Evaluation\n",
        "y_pred_train = lin_reg.predict(X_train)\n",
        "y_pred_test = lin_reg.predict(X_test)\n",
        "\n",
        "# RMSE and R2 for Training and Testing\n",
        "rmse_train = mean_squared_error(y_train, y_pred_train, squared=False)\n",
        "r2_train = r2_score(y_train, y_pred_train)\n",
        "rmse_test = mean_squared_error(y_test, y_pred_test, squared=False)\n",
        "r2_test = r2_score(y_test, y_pred_test)\n",
        "\n",
        "print(\"Linear Regression with Holdout Validation\")\n",
        "print(\"Training RMSE:\", rmse_train)\n",
        "print(\"Training R2:\", r2_train)\n",
        "print(\"Testing RMSE:\", rmse_test)\n",
        "print(\"Testing R2:\", r2_test)\n"
      ]
    },
    {
      "cell_type": "markdown",
      "id": "4e002101",
      "metadata": {
        "id": "4e002101"
      },
      "source": [
        "## Step 3: Polynomial Regression with Holdout Validation"
      ]
    },
    {
      "cell_type": "code",
      "execution_count": 3,
      "id": "37ad9c06",
      "metadata": {
        "colab": {
          "base_uri": "https://localhost:8080/"
        },
        "id": "37ad9c06",
        "outputId": "cbcd9825-8097-4c6b-e41e-b48006e01428"
      },
      "outputs": [
        {
          "output_type": "stream",
          "name": "stdout",
          "text": [
            "Polynomial Regression with Holdout Validation\n",
            "Training RMSE: 0.9948087996658265\n",
            "Training R2: 0.7649125969899105\n",
            "Testing RMSE: 0.9547858325967654\n",
            "Testing R2: 0.6544421451879691\n"
          ]
        },
        {
          "output_type": "stream",
          "name": "stderr",
          "text": [
            "/usr/local/lib/python3.10/dist-packages/sklearn/metrics/_regression.py:492: FutureWarning: 'squared' is deprecated in version 1.4 and will be removed in 1.6. To calculate the root mean squared error, use the function'root_mean_squared_error'.\n",
            "  warnings.warn(\n",
            "/usr/local/lib/python3.10/dist-packages/sklearn/metrics/_regression.py:492: FutureWarning: 'squared' is deprecated in version 1.4 and will be removed in 1.6. To calculate the root mean squared error, use the function'root_mean_squared_error'.\n",
            "  warnings.warn(\n"
          ]
        }
      ],
      "source": [
        "\n",
        "# Polynomial Features Transformation\n",
        "poly_features = PolynomialFeatures(degree=2)\n",
        "X_poly_train = poly_features.fit_transform(X_train)\n",
        "X_poly_test = poly_features.transform(X_test)\n",
        "\n",
        "# Polynomial Regression Model\n",
        "poly_reg = LinearRegression()\n",
        "poly_reg.fit(X_poly_train, y_train)\n",
        "\n",
        "# Predictions and Evaluation\n",
        "y_poly_pred_train = poly_reg.predict(X_poly_train)\n",
        "y_poly_pred_test = poly_reg.predict(X_poly_test)\n",
        "\n",
        "# RMSE and R2 for Training and Testing\n",
        "rmse_poly_train = mean_squared_error(y_train, y_poly_pred_train, squared=False)\n",
        "r2_poly_train = r2_score(y_train, y_poly_pred_train)\n",
        "rmse_poly_test = mean_squared_error(y_test, y_poly_pred_test, squared=False)\n",
        "r2_poly_test = r2_score(y_test, y_poly_pred_test)\n",
        "\n",
        "print(\"Polynomial Regression with Holdout Validation\")\n",
        "print(\"Training RMSE:\", rmse_poly_train)\n",
        "print(\"Training R2:\", r2_poly_train)\n",
        "print(\"Testing RMSE:\", rmse_poly_test)\n",
        "print(\"Testing R2:\", r2_poly_test)\n"
      ]
    },
    {
      "cell_type": "markdown",
      "id": "ec4727ed",
      "metadata": {
        "id": "ec4727ed"
      },
      "source": [
        "## Step 4: Linear Regression with K-Fold Cross-Validation"
      ]
    },
    {
      "cell_type": "code",
      "execution_count": 4,
      "id": "29876bad",
      "metadata": {
        "colab": {
          "base_uri": "https://localhost:8080/"
        },
        "id": "29876bad",
        "outputId": "a609059d-d3ad-40d6-eb28-ea0d40123b33"
      },
      "outputs": [
        {
          "output_type": "stream",
          "name": "stdout",
          "text": [
            "Linear Regression with K-Fold Cross-Validation\n",
            "Average RMSE: 1.0180782217352982\n",
            "Average R2: 0.6708823747456825\n"
          ]
        },
        {
          "output_type": "stream",
          "name": "stderr",
          "text": [
            "/usr/local/lib/python3.10/dist-packages/sklearn/metrics/_regression.py:492: FutureWarning: 'squared' is deprecated in version 1.4 and will be removed in 1.6. To calculate the root mean squared error, use the function'root_mean_squared_error'.\n",
            "  warnings.warn(\n",
            "/usr/local/lib/python3.10/dist-packages/sklearn/metrics/_regression.py:492: FutureWarning: 'squared' is deprecated in version 1.4 and will be removed in 1.6. To calculate the root mean squared error, use the function'root_mean_squared_error'.\n",
            "  warnings.warn(\n",
            "/usr/local/lib/python3.10/dist-packages/sklearn/metrics/_regression.py:492: FutureWarning: 'squared' is deprecated in version 1.4 and will be removed in 1.6. To calculate the root mean squared error, use the function'root_mean_squared_error'.\n",
            "  warnings.warn(\n",
            "/usr/local/lib/python3.10/dist-packages/sklearn/metrics/_regression.py:492: FutureWarning: 'squared' is deprecated in version 1.4 and will be removed in 1.6. To calculate the root mean squared error, use the function'root_mean_squared_error'.\n",
            "  warnings.warn(\n",
            "/usr/local/lib/python3.10/dist-packages/sklearn/metrics/_regression.py:492: FutureWarning: 'squared' is deprecated in version 1.4 and will be removed in 1.6. To calculate the root mean squared error, use the function'root_mean_squared_error'.\n",
            "  warnings.warn(\n"
          ]
        }
      ],
      "source": [
        "\n",
        "# K-Fold Cross-Validation\n",
        "kf = KFold(n_splits=5, shuffle=True, random_state=42)\n",
        "rmse_scores = []\n",
        "r2_scores = []\n",
        "\n",
        "for train_index, test_index in kf.split(X):\n",
        "    X_train_k, X_test_k = X[train_index], X[test_index]\n",
        "    y_train_k, y_test_k = y[train_index], y[test_index]\n",
        "\n",
        "    lin_reg.fit(X_train_k, y_train_k)\n",
        "    y_pred_k = lin_reg.predict(X_test_k)\n",
        "\n",
        "    rmse_scores.append(mean_squared_error(y_test_k, y_pred_k, squared=False))\n",
        "    r2_scores.append(r2_score(y_test_k, y_pred_k))\n",
        "\n",
        "print(\"Linear Regression with K-Fold Cross-Validation\")\n",
        "print(\"Average RMSE:\", np.mean(rmse_scores))\n",
        "print(\"Average R2:\", np.mean(r2_scores))\n"
      ]
    },
    {
      "cell_type": "markdown",
      "id": "cd541edd",
      "metadata": {
        "id": "cd541edd"
      },
      "source": [
        "## Step 5: Polynomial Regression with K-Fold Cross-Validation"
      ]
    },
    {
      "cell_type": "code",
      "execution_count": 5,
      "id": "0e607610",
      "metadata": {
        "colab": {
          "base_uri": "https://localhost:8080/"
        },
        "id": "0e607610",
        "outputId": "d27f2868-5854-46bf-d2ea-28843ca5b09a"
      },
      "outputs": [
        {
          "output_type": "stream",
          "name": "stdout",
          "text": [
            "Polynomial Regression with K-Fold Cross-Validation\n",
            "Average RMSE: 1.0178496643053105\n",
            "Average R2: 0.6707660481952369\n"
          ]
        },
        {
          "output_type": "stream",
          "name": "stderr",
          "text": [
            "/usr/local/lib/python3.10/dist-packages/sklearn/metrics/_regression.py:492: FutureWarning: 'squared' is deprecated in version 1.4 and will be removed in 1.6. To calculate the root mean squared error, use the function'root_mean_squared_error'.\n",
            "  warnings.warn(\n",
            "/usr/local/lib/python3.10/dist-packages/sklearn/metrics/_regression.py:492: FutureWarning: 'squared' is deprecated in version 1.4 and will be removed in 1.6. To calculate the root mean squared error, use the function'root_mean_squared_error'.\n",
            "  warnings.warn(\n",
            "/usr/local/lib/python3.10/dist-packages/sklearn/metrics/_regression.py:492: FutureWarning: 'squared' is deprecated in version 1.4 and will be removed in 1.6. To calculate the root mean squared error, use the function'root_mean_squared_error'.\n",
            "  warnings.warn(\n",
            "/usr/local/lib/python3.10/dist-packages/sklearn/metrics/_regression.py:492: FutureWarning: 'squared' is deprecated in version 1.4 and will be removed in 1.6. To calculate the root mean squared error, use the function'root_mean_squared_error'.\n",
            "  warnings.warn(\n",
            "/usr/local/lib/python3.10/dist-packages/sklearn/metrics/_regression.py:492: FutureWarning: 'squared' is deprecated in version 1.4 and will be removed in 1.6. To calculate the root mean squared error, use the function'root_mean_squared_error'.\n",
            "  warnings.warn(\n"
          ]
        }
      ],
      "source": [
        "\n",
        "# Polynomial Regression with K-Fold Cross-Validation\n",
        "rmse_scores_poly = []\n",
        "r2_scores_poly = []\n",
        "\n",
        "for train_index, test_index in kf.split(X):\n",
        "    X_train_k, X_test_k = X[train_index], X[test_index]\n",
        "    y_train_k, y_test_k = y[train_index], y[test_index]\n",
        "\n",
        "    X_poly_train_k = poly_features.fit_transform(X_train_k)\n",
        "    X_poly_test_k = poly_features.transform(X_test_k)\n",
        "\n",
        "    poly_reg.fit(X_poly_train_k, y_train_k)\n",
        "    y_pred_poly_k = poly_reg.predict(X_poly_test_k)\n",
        "\n",
        "    rmse_scores_poly.append(mean_squared_error(y_test_k, y_pred_poly_k, squared=False))\n",
        "    r2_scores_poly.append(r2_score(y_test_k, y_pred_poly_k))\n",
        "\n",
        "print(\"Polynomial Regression with K-Fold Cross-Validation\")\n",
        "print(\"Average RMSE:\", np.mean(rmse_scores_poly))\n",
        "print(\"Average R2:\", np.mean(r2_scores_poly))\n"
      ]
    }
  ],
  "metadata": {
    "colab": {
      "provenance": [],
      "include_colab_link": true
    },
    "language_info": {
      "name": "python"
    },
    "kernelspec": {
      "name": "python3",
      "display_name": "Python 3"
    }
  },
  "nbformat": 4,
  "nbformat_minor": 5
}